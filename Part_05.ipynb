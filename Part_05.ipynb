{
 "cells": [
  {
   "cell_type": "markdown",
   "metadata": {},
   "source": [
    "# Numpy\n",
    "\n",
    "Numpy (numerical Python) is a tool applicable to several tasks that are important in data science applications\n",
    "- fast array-oriented arithmetic operations\n",
    "- efficient descriptive statistics and data aggregation\n",
    "- linear algebra\n",
    "\n",
    "The basic object in Numpy is the **N-dimensional array**, or `ndarray`. Unlike Python lists or tuples, **ndarrays contain objects of the same type**. Because of that, ndarrays occupy less space than Python built-in types thus allowing a much more efficient implementation of array operations."
   ]
  },
  {
   "cell_type": "code",
   "execution_count": null,
   "metadata": {},
   "outputs": [],
   "source": [
    "import numpy as np"
   ]
  },
  {
   "cell_type": "code",
   "execution_count": null,
   "metadata": {},
   "outputs": [],
   "source": [
    "a = np.array([1,2,3,4]) # note that a list is provided as argument to the type constructor\n",
    "a"
   ]
  },
  {
   "cell_type": "code",
   "execution_count": null,
   "metadata": {},
   "outputs": [],
   "source": [
    "type(a)"
   ]
  },
  {
   "cell_type": "markdown",
   "metadata": {},
   "source": [
    "We can inspect the type of the objects inside a ndarray via the **attribute** `dtype`.\n",
    "\n",
    "Attributes are local variables defining properties of objects. "
   ]
  },
  {
   "cell_type": "code",
   "execution_count": null,
   "metadata": {},
   "outputs": [],
   "source": [
    "a.dtype"
   ]
  },
  {
   "cell_type": "markdown",
   "metadata": {},
   "source": [
    "The `dtype` of a ndarray can be re-cast using the method `astype()`."
   ]
  },
  {
   "cell_type": "code",
   "execution_count": null,
   "metadata": {},
   "outputs": [],
   "source": [
    "float_a = a.astype(np.float64)\n",
    "float_a"
   ]
  },
  {
   "cell_type": "markdown",
   "metadata": {},
   "source": [
    "The ndarray attribute `shape` contains the dimensions on the ndarray. In this case, `a` is a 1-dimensional array with four components"
   ]
  },
  {
   "cell_type": "code",
   "execution_count": null,
   "metadata": {},
   "outputs": [],
   "source": [
    "a.shape"
   ]
  },
  {
   "cell_type": "markdown",
   "metadata": {},
   "source": [
    "ndarray elements can be accessed via the indexing operator. Sections of ndarrays can be selected using *slicing*. "
   ]
  },
  {
   "cell_type": "code",
   "execution_count": null,
   "metadata": {},
   "outputs": [],
   "source": [
    "a = np.arange(10) # same as np.array([0,1,2,3,4,5,6,7,8,9])\n",
    "a[2:8:2] # from a[2] to a[7] with stepsize 2"
   ]
  },
  {
   "cell_type": "markdown",
   "metadata": {},
   "source": [
    "Slicing of ndarrays works similarly to Python lists. However, in Numpy we can assign a constant to a slice."
   ]
  },
  {
   "cell_type": "code",
   "execution_count": null,
   "metadata": {},
   "outputs": [],
   "source": [
    "a[2:5] = 10 # all the slice elements get assigned the same value 10\n",
    "a"
   ]
  },
  {
   "cell_type": "markdown",
   "metadata": {},
   "source": [
    "Slicing in Numpy creates a **view** of the ndarray being sliced.\n",
    "\n",
    "A view of a ndarray is a new object. However, the ndarray contained is stored in the same memory area as the content of the original array."
   ]
  },
  {
   "cell_type": "code",
   "execution_count": null,
   "metadata": {},
   "outputs": [],
   "source": [
    "a = np.arange(10)\n",
    "c = a[2:6]        # c is a view of a\n",
    "c"
   ]
  },
  {
   "cell_type": "markdown",
   "metadata": {},
   "source": [
    "`a` and `c` refer to distinct objects whose content is partially shared. Each variable can be used to modified the shared content "
   ]
  },
  {
   "cell_type": "code",
   "execution_count": null,
   "metadata": {},
   "outputs": [],
   "source": [
    "a[4] = 10\n",
    "c[3] = 11\n",
    "print(a)\n",
    "print(c)"
   ]
  },
  {
   "cell_type": "markdown",
   "metadata": {},
   "source": [
    "The attribute `base` of a ndarray can be used to verify that `c` is indeed a view of `a`"
   ]
  },
  {
   "cell_type": "code",
   "execution_count": null,
   "metadata": {},
   "outputs": [],
   "source": [
    "c is a, c.base is a"
   ]
  },
  {
   "cell_type": "markdown",
   "metadata": {},
   "source": [
    "Views can created directly using the method `view()` of type `ndarray."
   ]
  },
  {
   "cell_type": "code",
   "execution_count": null,
   "metadata": {},
   "outputs": [],
   "source": [
    "d = a.view()\n",
    "d"
   ]
  },
  {
   "cell_type": "markdown",
   "metadata": {},
   "source": [
    "To copy a ndarray (without any shared content) we can use the method `copy()`."
   ]
  },
  {
   "cell_type": "code",
   "execution_count": null,
   "metadata": {},
   "outputs": [],
   "source": [
    "a = np.array([1,1,2,3,5])\n",
    "b = a.copy()\n",
    "b"
   ]
  },
  {
   "cell_type": "markdown",
   "metadata": {},
   "source": [
    "Below, we check that `b` is a true copy of `a`."
   ]
  },
  {
   "cell_type": "code",
   "execution_count": null,
   "metadata": {},
   "outputs": [],
   "source": [
    "b is a, b.base is a"
   ]
  },
  {
   "cell_type": "code",
   "execution_count": null,
   "metadata": {},
   "outputs": [],
   "source": [
    "a = np.array([1,1,2,3,5])\n",
    "d = a.view()\n",
    "d.base is a"
   ]
  },
  {
   "cell_type": "markdown",
   "metadata": {},
   "source": [
    "## Elementwise operations on ndarrays\n",
    "We start by creating two ndarrays. The second one contain random numbers between 0 and 99"
   ]
  },
  {
   "cell_type": "code",
   "execution_count": null,
   "metadata": {},
   "outputs": [],
   "source": [
    "a = np.arange(10)\n",
    "b = np.random.randint(100, size=10) # 10 independent draws from the uniform distribution in {0,..,99}\n",
    "b"
   ]
  },
  {
   "cell_type": "markdown",
   "metadata": {},
   "source": [
    "Basic mathematical operations on ndarrays are applied **elementwise** provided the operands have the same dimensions.\n",
    "\n",
    "The next expression creates a 10-element ndarray $(5,...,5)$, adds the ndarray to `a` whose each component is multiplied by $12.5$, and finally subtracts elementwise `b` from the result. The resulting ndarray is cast to a list for a more compact display."
   ]
  },
  {
   "cell_type": "code",
   "execution_count": null,
   "metadata": {},
   "outputs": [],
   "source": [
    "list(5 + 12.5*a - b)"
   ]
  },
  {
   "cell_type": "markdown",
   "metadata": {},
   "source": [
    "The function `square()` simply squares each element of the ndarray given as argument."
   ]
  },
  {
   "cell_type": "code",
   "execution_count": null,
   "metadata": {},
   "outputs": [],
   "source": [
    "np.square(a)"
   ]
  },
  {
   "cell_type": "markdown",
   "metadata": {},
   "source": [
    "The functions below here operate as follows:\n",
    "- `sum`: returns the sum of the ndarray elements\n",
    "- `min`: returns the minimum of the ndarray elements\n",
    "- `mean`: returns the average of the ndarray elements\n",
    "- `max`: returns the maximum of the ndarray elements"
   ]
  },
  {
   "cell_type": "code",
   "execution_count": null,
   "metadata": {},
   "outputs": [],
   "source": [
    "np.sum(a), np.min(a), np.mean(a), np.max(a)"
   ]
  },
  {
   "cell_type": "markdown",
   "metadata": {},
   "source": [
    "The function `cumsum` returns a ndarray whose elements are the partial sums of the ndarray given as argument. Namely, if `x` contains $x_1,x_2,x_3$, then `np.cumsum(a)` returns $x_1,x_1+x_2,x_1+x_2+x_3$."
   ]
  },
  {
   "cell_type": "code",
   "execution_count": null,
   "metadata": {},
   "outputs": [],
   "source": [
    "np.cumsum(a)"
   ]
  },
  {
   "cell_type": "markdown",
   "metadata": {},
   "source": [
    "Ndarrays with random elements can be drawn from several distributions."
   ]
  },
  {
   "cell_type": "code",
   "execution_count": null,
   "metadata": {},
   "outputs": [],
   "source": [
    "v1 = np.random.rand(5) # 5 independent draws from the uniform distribution in [0,1]\n",
    "v1"
   ]
  },
  {
   "cell_type": "code",
   "execution_count": null,
   "metadata": {},
   "outputs": [],
   "source": [
    "v1.dtype"
   ]
  },
  {
   "cell_type": "code",
   "execution_count": null,
   "metadata": {},
   "outputs": [],
   "source": [
    "v2 = np.random.randn(5) # 5 independent draws from the normal distribution\n",
    "v2"
   ]
  },
  {
   "cell_type": "markdown",
   "metadata": {},
   "source": [
    "Relational operators, like `<` are also applied elementwise and generate ndarrays with boolean components."
   ]
  },
  {
   "cell_type": "code",
   "execution_count": null,
   "metadata": {},
   "outputs": [],
   "source": [
    "b = v1 < v2\n",
    "b"
   ]
  },
  {
   "cell_type": "code",
   "execution_count": null,
   "metadata": {},
   "outputs": [],
   "source": [
    "b.dtype"
   ]
  },
  {
   "cell_type": "markdown",
   "metadata": {},
   "source": [
    "# Linear Algebra with Numpy\n",
    "\n",
    "We view 1-dimensional ndarrays as vectors in $\\mathbb{R}^n$.\n",
    "\n",
    "Numpy uses `@` to denote the *inner product* $u^{\\top} v = \\sum_{i=1}^n u_i v_i$ between two vectors $u,v\\in\\mathbb{R}^n$.\n",
    "\n",
    "Recall that $u^{\\top}v = \\|u\\|_2\\,\\|v\\|_2\\cos(\\theta)$ where $\\theta$ is the angle between the two vectors and $\\|\\cdot\\|_2$ denotes the length of the vector."
   ]
  },
  {
   "cell_type": "code",
   "execution_count": null,
   "metadata": {},
   "outputs": [],
   "source": [
    "x = v1 @ v2\n",
    "x"
   ]
  },
  {
   "cell_type": "markdown",
   "metadata": {},
   "source": [
    "## Vector Norms\n",
    "The norm $\\|x\\|$ of a vector $x$ measures an abstract notion of length\n",
    " \n",
    "Formally, a norm in $\\mathbb{R}^n$ is any function $\\|\\cdot\\| : \\mathbb{R}^n \\to \\mathbb{R}$ such that:\n",
    "* $\\|x\\| \\geq 0$ for all $x$\n",
    "* $\\|x\\| = 0 \\Longleftrightarrow x = (0,\\ldots,0)$\n",
    "* $\\|ax\\| = |a| \\|x\\|$ for all $x$\n",
    "* $\\|x + y\\| \\leq \\|x\\| + \\|y\\|$ for all $x$ and $y$ (triangle inequality)"
   ]
  },
  {
   "cell_type": "markdown",
   "metadata": {},
   "source": [
    "## Examples of norms\n",
    "* The standard length of a vector $x = (x_1,\\ldots,x_n)$ is measured by the **Euclidean norm**\n",
    "$$ \\|x\\|_2 := \\sqrt{x_1^2 + x_2^2 + \\cdots + x_n^2}$$\n",
    "\n",
    "* This is a special case of the $p$-norm for integer $p \\ge 1$:\n",
    "$$ \\|x\\|_p := \\left(|x_1|^p + \\cdots + |x_n|^p\\right)^{1/p}$$\n",
    "\n",
    "* For $p\\to\\infty$ we obtain the infinity norm\n",
    "$$ \\|x\\|_\\infty := \\max_{i=1,\\ldots, n} |x_i|$$\n",
    "\n",
    "Note that, for any vector $x$ and for any two integers $1 \\le p \\le q$, $\\|x\\|_p \\ge \\|x\\|_q$  \n",
    "\n",
    "A vector $x$ is said to be *normalized* in some norm $\\|\\cdot\\|$ if $\\|x\\| = 1$"
   ]
  },
  {
   "cell_type": "code",
   "execution_count": null,
   "metadata": {},
   "outputs": [],
   "source": [
    "from numpy import linalg as LA\n",
    "LA.norm(v1) # Euclidean norm"
   ]
  },
  {
   "cell_type": "code",
   "execution_count": null,
   "metadata": {},
   "outputs": [],
   "source": [
    "LA.norm(v1, ord=1) # 1-norm"
   ]
  },
  {
   "cell_type": "code",
   "execution_count": null,
   "metadata": {},
   "outputs": [],
   "source": [
    "LA.norm(v1, ord=np.inf) # infinity norm"
   ]
  },
  {
   "cell_type": "markdown",
   "metadata": {},
   "source": [
    "We now load some modules to improve the rendering of math."
   ]
  },
  {
   "cell_type": "code",
   "execution_count": null,
   "metadata": {},
   "outputs": [],
   "source": [
    "from sympy import init_printing, Matrix, symbols, Rational\n",
    "import sympy as sym\n",
    "from warnings import filterwarnings\n",
    "init_printing(use_latex = 'mathjax')\n",
    "filterwarnings('ignore')"
   ]
  },
  {
   "cell_type": "markdown",
   "metadata": {},
   "source": [
    "The *outer product* $u v^{\\top}$ between two vectors $u,v\\in\\mathbb{R}^n$ is a $n \\times n$ **matrix** $M$ with components $M_{i,j} = u_i v_j$."
   ]
  },
  {
   "cell_type": "code",
   "execution_count": null,
   "metadata": {},
   "outputs": [],
   "source": [
    "M = np.outer(v1, v2)\n",
    "M2 = np.round(M, decimals=2) # rounds the entries of M\n",
    "Matrix(M2) # pretty printing of M2"
   ]
  },
  {
   "cell_type": "markdown",
   "metadata": {},
   "source": [
    "Note that `M2` is created as a 2-dimensional ndarray. "
   ]
  },
  {
   "cell_type": "code",
   "execution_count": null,
   "metadata": {},
   "outputs": [],
   "source": [
    "M2"
   ]
  },
  {
   "cell_type": "markdown",
   "metadata": {},
   "source": [
    "We can check the dimensions via the `shape` attribute."
   ]
  },
  {
   "cell_type": "code",
   "execution_count": null,
   "metadata": {},
   "outputs": [],
   "source": [
    "M2.shape"
   ]
  },
  {
   "cell_type": "markdown",
   "metadata": {},
   "source": [
    "Creating 1-d and 2-d ndarrays using the type constructor."
   ]
  },
  {
   "cell_type": "code",
   "execution_count": null,
   "metadata": {},
   "outputs": [],
   "source": [
    "a = [2, 4, 6, 8, 10]\n",
    "npa = np.array(a)\n",
    "npa"
   ]
  },
  {
   "cell_type": "code",
   "execution_count": null,
   "metadata": {},
   "outputs": [],
   "source": [
    "b = [1, 3, 5, 7, 9]\n",
    "M = np.array([a, b])\n",
    "M"
   ]
  },
  {
   "cell_type": "code",
   "execution_count": null,
   "metadata": {},
   "outputs": [],
   "source": [
    "M.shape"
   ]
  },
  {
   "cell_type": "code",
   "execution_count": null,
   "metadata": {},
   "outputs": [],
   "source": [
    "Matrix(M)"
   ]
  },
  {
   "cell_type": "markdown",
   "metadata": {},
   "source": [
    "Arithmetic operators apply to higher-dimensional ndarrays in much the same way as with 1-d ndarrays."
   ]
  },
  {
   "cell_type": "code",
   "execution_count": null,
   "metadata": {},
   "outputs": [],
   "source": [
    "N = M/2 + 3\n",
    "Matrix(N)"
   ]
  },
  {
   "cell_type": "markdown",
   "metadata": {},
   "source": [
    "We now describe matrices as linear operators."
   ]
  },
  {
   "cell_type": "code",
   "execution_count": null,
   "metadata": {},
   "outputs": [],
   "source": [
    "A11, A12, A13, A21, A22, A23, A31, A32, A33, B11, B12, B21, B22, B31, B32, v11, v12, v13, v21, v22, v23, v31, v32, v33 = symbols('A11 A12 A13 A21 A22 A23 A31 A32 A33 B11 B12 B21 B22 B31 B32 v11 v12 v13 v21 v22 v23 v31 v32 v33')"
   ]
  },
  {
   "cell_type": "code",
   "execution_count": null,
   "metadata": {
    "scrolled": true
   },
   "outputs": [],
   "source": [
    "A = np.array([[A11, A12, A13], [A21, A22, A23]])\n",
    "v = np.array([v11, v21, v31])\n",
    "Matrix(A), Matrix(v)"
   ]
  },
  {
   "cell_type": "markdown",
   "metadata": {},
   "source": [
    "Note that vectors are **column vectors**.\n",
    "\n",
    "Let's start with the simple matrix-vector multiplication."
   ]
  },
  {
   "cell_type": "code",
   "execution_count": null,
   "metadata": {},
   "outputs": [],
   "source": [
    "u = np.dot(A, v) # this is an equivalent syntax for A @ v\n",
    "Matrix(u) # u is a 2-dimensional vector"
   ]
  },
  {
   "cell_type": "markdown",
   "metadata": {},
   "source": [
    "Recall that a $m \\times n$ matrix $M$ denotes a **linear transformation** $T_M : \\mathbb{R}^n \\to \\mathbb{R}^m$ such that $T_M(v) = Mv$. Hence, for all $a\\in\\mathbb{R}$ and $u,v\\in\\mathbb{R}^n$, we have $M(av) = a Mv$ and $M(u+v) = Mu + Mv$.\n",
    "\n",
    "Given two matrices $A$ of size $m \\times n$ and $B$ of size $n \\times p$, the composition of functions $T_A$ and $T_B$ is obtained trough **matrix multiplication**. Hence $$T_A\\big(T_B(v)\\big) = ABv$$ for all $v \\in \\mathbb{R}^p$.\n",
    "\n",
    "We recall how two matrices are multiplied."
   ]
  },
  {
   "cell_type": "code",
   "execution_count": null,
   "metadata": {},
   "outputs": [],
   "source": [
    "A = np.array([[A11, A12, A13], [A21, A22, A23]])\n",
    "B = np.array([[B11, B12], [B21, B22], [B31, B32]])\n",
    "Matrix(A), Matrix(B)"
   ]
  },
  {
   "cell_type": "code",
   "execution_count": null,
   "metadata": {},
   "outputs": [],
   "source": [
    "C = np.dot(A, B)\n",
    "Matrix(C)"
   ]
  },
  {
   "cell_type": "markdown",
   "metadata": {},
   "source": [
    "### Transpose\n",
    "\n",
    "The transpose of a matrix $A$ with components $A_{i,j}$ is the matrix $A^{\\top}$ such that $A^{\\top}_{i,j} = A_{j,i}$\n",
    "\n",
    "Some important properties:\n",
    "* $(A + B)^\\top = A^\\top + B^\\top$\n",
    "* $(AB)^\\top = B^\\top A^\\top$"
   ]
  },
  {
   "cell_type": "code",
   "execution_count": null,
   "metadata": {},
   "outputs": [],
   "source": [
    "Matrix(M), Matrix(M.T)"
   ]
  },
  {
   "cell_type": "markdown",
   "metadata": {},
   "source": [
    "A square $n \\times n$ matrix $A$ is *symmetric* if $A_{i,j} = A_{j,i}$ for all $1 \\le i,j \\le n$.\n",
    "\n",
    "A generic matrix can be *symmetrized* through multiplication with its transpose"
   ]
  },
  {
   "cell_type": "code",
   "execution_count": null,
   "metadata": {},
   "outputs": [],
   "source": [
    "Q = M @ M.T\n",
    "Matrix(Q)"
   ]
  },
  {
   "cell_type": "code",
   "execution_count": null,
   "metadata": {},
   "outputs": [],
   "source": [
    "Q = M.T @ M\n",
    "Matrix(Q)"
   ]
  },
  {
   "cell_type": "markdown",
   "metadata": {},
   "source": [
    "### Rank\n",
    "\n",
    "A set of vectors is linearly independent if no vector in the set can be represented as a linear combination of the others.\n",
    "\n",
    "The rank of a matrix is the largest number of linearly independent columns or, **equivalently**, the largest number of linearly independent rows. Hence the rank of a $m\\times n$ matrix cannot be larger than $\\min\\{m,n\\}$.\n",
    "    \n",
    "* the column space of a matrix is the set of all possible linear combinations of its column vectors\n",
    "* the row space of a matrix is the set of all possible linear combinations of its row vectors\n",
    "\n",
    "For any matrix $A$, the rank of $A$ $=$ the dimension of the column space of $A$ $=$ dimension of the row space of $A$\n",
    "\n",
    "If all rows (or all columns) are multiple of each other, than the rank is 1."
   ]
  },
  {
   "cell_type": "code",
   "execution_count": null,
   "metadata": {},
   "outputs": [],
   "source": [
    "v = np.random.randn(5)\n",
    "M = np.array([v,2*v,5*v])\n",
    "LA.matrix_rank(M)"
   ]
  },
  {
   "cell_type": "markdown",
   "metadata": {},
   "source": [
    "The outer product of a vector with itself also results in a rank-1 matrix."
   ]
  },
  {
   "cell_type": "code",
   "execution_count": null,
   "metadata": {},
   "outputs": [],
   "source": [
    "v = np.random.randn(5)\n",
    "M = np.outer(v, v)\n",
    "LA.matrix_rank(M)"
   ]
  },
  {
   "cell_type": "markdown",
   "metadata": {},
   "source": [
    "A matrix with random independent entries is very likely to be **full rank** (i.e., rank equal to the smallest between number of rows and number of columns)."
   ]
  },
  {
   "cell_type": "code",
   "execution_count": null,
   "metadata": {},
   "outputs": [],
   "source": [
    "G = np.random.randn(5,5)\n",
    "LA.matrix_rank(G)"
   ]
  },
  {
   "cell_type": "markdown",
   "metadata": {},
   "source": [
    "## Matrix inversion\n",
    "Recall that the $n \\times n$ *identity* matrix $I$ is defined by\n",
    "$$\n",
    "\\left[ \\begin{array}{ccccc} 1 & 0 & 0 & \\cdots & 0 \\\\ 0 & 1 & 0 & \\cdots & 0 \\\\ \\vdots & \\vdots & \\vdots & \\vdots \\\\ 0 & 0 &\\cdots & 0 & 1 \\end{array} \\right]\n",
    "$$\n",
    "The associated linear transformation $T_I$ is such that $T_I(v) = v$ for all $v \\in \\mathbb{R}^d$.\n",
    "\n",
    "* The inverse $A^{-1}$ of a *square matrix* $A$, if it exists, is the unique matrix such that $A A^{-1} = A^{-1}A = I$. Hence $A^{-1}$ corresponds to the functional inverse $T_A^{-1}$ of the linear operator $T_A$ which satisfies $T_A^{-1}T_A = T_A T_A^{-1} = T_I$\n",
    "* A square matrix is invertible if and only if it is full rank\n",
    "* If $A$ and $B$ are invertible, then $AB$ is invertible and $(AB)^{-1} = B^{-1} A^{-1}$\n",
    "* If $A$ is invertible, then $A^\\top$ is invertible and $(A^\\top)^{-1} = (A^{-1})^\\top$"
   ]
  },
  {
   "cell_type": "code",
   "execution_count": null,
   "metadata": {},
   "outputs": [],
   "source": [
    "X = np.array([[3, 1], [1, 4]])\n",
    "Matrix(X)"
   ]
  },
  {
   "cell_type": "code",
   "execution_count": null,
   "metadata": {},
   "outputs": [],
   "source": [
    "LA.matrix_rank(X)"
   ]
  },
  {
   "cell_type": "code",
   "execution_count": null,
   "metadata": {},
   "outputs": [],
   "source": [
    "Y = LA.inv(X)\n",
    "Matrix(Y)"
   ]
  },
  {
   "cell_type": "code",
   "execution_count": null,
   "metadata": {},
   "outputs": [],
   "source": [
    "Matrix(X @ Y), Matrix(Y @ X)"
   ]
  },
  {
   "cell_type": "markdown",
   "metadata": {},
   "source": [
    "## Orthogonal + Normalized = Orthonormal\n",
    "* Two vectors $x,y$ are *orthogonal* if $x^{\\top} y = 0$\n",
    "* A square matrix $U \\in \\mathbb{R}^{n \\times n}$ is *orthogonal* if its columns are pairwise orthogonal\n",
    "* $U$ is *orthonormal* if it is orthogonal **and** the columns are normalized (Euclidean norm $= 1$)\n",
    "* If $U$ is orthonormal, then $U^\\top U = I$, that is, $U^{-1} = U^\\top$\n",
    "\n",
    "## Positive Definiteness\n",
    "* A symmetric matrix $A$ is positive definite if\n",
    "$x^\\top A x > 0$ for all $x \\ne 0$\n",
    "* A matrix is positive semi-definite (PSD) if \n",
    "$x^\\top A x \\geq 0$ for all $x$\n",
    "* A positive definite matrix defines a *norm*\n",
    "$\\| x \\|_A = \\sqrt{x ^\\top A x}$\n",
    "\n",
    "## Eigenvectors and eigenvalues\n",
    "* Consider square $n \\times n$ matrices $A$ that are symmetric. That is, $A_{i,j} = A_{j,i}$ for all $1 \\le i,j \\le n$.\n",
    "* If $A u = \\lambda u$ for some $\\lambda\\in\\mathbb{R}$ and $u \\in \\mathbb{R}^n$, then $u$ is an *eigenvector* of $A$ and $\\lambda$ is its associated *eigenvalue*.\n",
    "\n",
    "### Spectral Theorem\n",
    "* If $A$ is symmetric, then $A = U\\Sigma U^{\\top}$ where $U$ is an orthonormal matrix whose columns are the eigenvectors of $A$ and $\\Sigma$ is a diagonal matrix whose diagonal elements are the eigenvalues of $A$.\n",
    "* If $A$ is also positive semidefinite, then all the eigenvalues are nonnegative.\n",
    "\n",
    "Note that $$U\\Sigma U^{\\top} = \\sum_{i=1}^d \\lambda_i u_i u_i^{\\top}$$ Hence, any positive semidefinite matrix can be written as a sum of outer products of eigenvectors.\n",
    "\n",
    "We now visualize the effect of a linear operator $T_A$ on a disk in $\\mathbb{R}^d$."
   ]
  },
  {
   "cell_type": "code",
   "execution_count": null,
   "metadata": {},
   "outputs": [],
   "source": [
    "M = np.random.randn(2,2)\n",
    "A = M @ M.T\n",
    "Matrix(A)"
   ]
  },
  {
   "cell_type": "markdown",
   "metadata": {},
   "source": [
    "First, we perform the spectral decomposition of $A$"
   ]
  },
  {
   "cell_type": "code",
   "execution_count": null,
   "metadata": {},
   "outputs": [],
   "source": [
    "U, s, Vh = LA.svd(A, full_matrices=True)\n",
    "U.shape, s.shape, Vh.shape"
   ]
  },
  {
   "cell_type": "markdown",
   "metadata": {},
   "source": [
    "We print $U$ and the diagonal matrix $\\Sigma$"
   ]
  },
  {
   "cell_type": "code",
   "execution_count": null,
   "metadata": {},
   "outputs": [],
   "source": [
    "Matrix(U), Matrix(np.diag(s))"
   ]
  },
  {
   "cell_type": "markdown",
   "metadata": {},
   "source": [
    "We verify the spectral theorem by recovering the original matrix through its spectral decomposition"
   ]
  },
  {
   "cell_type": "code",
   "execution_count": null,
   "metadata": {},
   "outputs": [],
   "source": [
    "Matrix(U @ np.diag(s) @ U.T)"
   ]
  },
  {
   "cell_type": "markdown",
   "metadata": {},
   "source": [
    "We now visualize how the points on a disk get distorted through the application of $A$"
   ]
  },
  {
   "cell_type": "code",
   "execution_count": null,
   "metadata": {},
   "outputs": [],
   "source": [
    "%matplotlib inline\n",
    "import matplotlib.pyplot as plt\n",
    "theta = np.linspace(0, 2*np.pi, 100) # return evenly spaced numbers over the unit circle\n",
    "x = np.sin(theta) # compute x coordinate\n",
    "y = np.cos(theta) # compute y coordinate\n",
    "v = np.array([x, y]) # create 2 x 100 matrix whose columns are the points (x,y) on the circle\n",
    "z = A @ v # return a 2 x 100 matrix whose columns are the transformed circle points A(x,y)\n",
    "plt.axes().set_aspect('equal', 'datalim') # make aspect ratio 1:1\n",
    "plt.plot(z[0], z[1]); # create plot of transformed circle points\n",
    "plt.show() # print plot"
   ]
  },
  {
   "cell_type": "markdown",
   "metadata": {},
   "source": [
    "We a bit more effort, we can print the eigenvectors scaled by their eigenvalues. This reveals the geometric role of the spectrum"
   ]
  },
  {
   "cell_type": "code",
   "execution_count": null,
   "metadata": {},
   "outputs": [],
   "source": [
    "theta = np.linspace(0, 2*np.pi, 100)\n",
    "x = np.sin(theta)\n",
    "y = np.cos(theta)\n",
    "z = A @ np.array([x, y])\n",
    "start = np.array([0.0, 0.0])\n",
    "\n",
    "fig, ax = plt.subplots()\n",
    "fig.set_size_inches(15,15)\n",
    "plt.plot(z[0], z[1]);\n",
    "\n",
    "end = s[0] * U[:,0]\n",
    "ax.annotate(\n",
    "    '', xy=end, xycoords='data',\n",
    "    xytext=start, textcoords='data',\n",
    "    arrowprops=dict(facecolor='red', width=1.0))\n",
    "\n",
    "end = s[1] * U[:,1]\n",
    "ax.annotate(\n",
    "    '', xy=end, xycoords='data',\n",
    "    xytext=start, textcoords='data',\n",
    "    arrowprops=dict(facecolor='red', width=1.0))\n",
    "\n",
    "ax.set_aspect('equal')\n",
    "plt.show()"
   ]
  }
 ],
 "metadata": {
  "kernelspec": {
   "display_name": "Python 3",
   "language": "python",
   "name": "python3"
  },
  "language_info": {
   "codemirror_mode": {
    "name": "ipython",
    "version": 3
   },
   "file_extension": ".py",
   "mimetype": "text/x-python",
   "name": "python",
   "nbconvert_exporter": "python",
   "pygments_lexer": "ipython3",
   "version": "3.8.5"
  },
  "latex_envs": {
   "LaTeX_envs_menu_present": true,
   "autoclose": false,
   "autocomplete": true,
   "bibliofile": "biblio.bib",
   "cite_by": "apalike",
   "current_citInitial": 1,
   "eqLabelWithNumbers": true,
   "eqNumInitial": 1,
   "hotkeys": {
    "equation": "Ctrl-E",
    "itemize": "Ctrl-I"
   },
   "labels_anchors": false,
   "latex_user_defs": false,
   "report_style_numbering": false,
   "user_envs_cfg": false
  }
 },
 "nbformat": 4,
 "nbformat_minor": 2
}
