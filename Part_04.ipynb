{
 "cells": [
  {
   "cell_type": "markdown",
   "metadata": {},
   "source": [
    "# Functions\n",
    "\n",
    "We look very briefly at how functions are defined and called.\n",
    "\n",
    "A function is a block of code which gets executed when **invoked** by some other code. \n",
    "\n",
    "The code invoking a function can pass zero or more **arguments**, which may be used in the execution. \n",
    "\n",
    "A function can **return data** as a result.\n",
    "\n",
    "The function defined below takes a list as argument, builds a dictionary of counts for its elements (i.e., the number of time each element occurs in the list), and returns the list version of the dictionary."
   ]
  },
  {
   "cell_type": "code",
   "execution_count": null,
   "metadata": {},
   "outputs": [],
   "source": [
    "def get_counts(s):\n",
    "    counts = {} # local variable that is assigned an empty dictionary\n",
    "\n",
    "    for x in s:\n",
    "        if x in counts:\n",
    "            counts[x] += 1\n",
    "        else:\n",
    "            counts[x] = 1\n",
    "\n",
    "    pairs = counts.items()\n",
    "    return list(pairs) # the argument of the return statement is the value produced by the function"
   ]
  },
  {
   "cell_type": "markdown",
   "metadata": {},
   "source": [
    "`s` is the *formal parameter* of the function `get_counts`. The argument `a` in the call `get_counts(a)` is the *actual parameter*.\n",
    "\n",
    "When the call is executed, a *local variable* `s` is created and the assignment `s = a` is made."
   ]
  },
  {
   "cell_type": "code",
   "execution_count": null,
   "metadata": {},
   "outputs": [],
   "source": [
    "a = ['a', 'c', 'd', 'a', 'c', 'a', 'd', 'b']\n",
    "get_counts(a) # function invokation"
   ]
  },
  {
   "cell_type": "markdown",
   "metadata": {},
   "source": [
    "Since the local variable is referencing the same object referenced by `a`, the code in the function can modify the argument.\n",
    "\n",
    "We see this in the next example, where we define a function that takes a list of scalars in input and multiplies each element of the list by 2."
   ]
  },
  {
   "cell_type": "code",
   "execution_count": null,
   "metadata": {},
   "outputs": [],
   "source": [
    "def double_list(some_list):\n",
    "    for pos in range(len(some_list)):\n",
    "        some_list[pos] *= 2"
   ]
  },
  {
   "cell_type": "code",
   "execution_count": null,
   "metadata": {},
   "outputs": [],
   "source": [
    "s = [1, 3, 5, 7]\n",
    "double_list(s)\n",
    "s"
   ]
  },
  {
   "cell_type": "markdown",
   "metadata": {},
   "source": [
    "Note that the type `str` also supports the multiplication operator."
   ]
  },
  {
   "cell_type": "code",
   "execution_count": null,
   "metadata": {},
   "outputs": [],
   "source": [
    "s = ['pippo', 'pluto', 'paperino']\n",
    "double_list(s)\n",
    "s"
   ]
  },
  {
   "cell_type": "markdown",
   "metadata": {},
   "source": [
    "Functions are objects. Hence, we can call a function through a variable referencing the function. We show an example using the methods `strip()` and `capitalize()` for the type `str`.\n",
    "\n",
    "Note that in Python the method invocation format `x.method(args)` is equivalent to `type.method(x, args)` where `type` is the type of the object the variable `x` refers to.\n",
    "\n",
    "For example, if `d` refers to an object of type `dict` that contains the key `7`, then `d.pop(7)` is equivalent to `dict.pop(d,7)`."
   ]
  },
  {
   "cell_type": "code",
   "execution_count": null,
   "metadata": {},
   "outputs": [],
   "source": [
    "names = ['Alfred  ', 'carl', '  Danny    ', 'lucy   ']\n",
    "clean_ops = [str.strip, str.capitalize]\n",
    "result = []\n",
    "for s in names:\n",
    "    for f in clean_ops:\n",
    "        s = f(s) # method invokation, equivalent to s = s.f()\n",
    "    result.append(s)\n",
    "result"
   ]
  },
  {
   "cell_type": "markdown",
   "metadata": {},
   "source": [
    "## Anonymous functions\n",
    "\n",
    "Python has a compact way of defining functions consisting of a single statement.\n",
    "\n",
    "Consider the `sorted` builtin function that returns a new sorted list from the items in an iterable collection."
   ]
  },
  {
   "cell_type": "code",
   "execution_count": null,
   "metadata": {},
   "outputs": [],
   "source": [
    "strings = ['foo', 'bar', 'baz', 'f', 'fo', 'b', 'ba']\n",
    "sorted(strings)"
   ]
  },
  {
   "cell_type": "markdown",
   "metadata": {},
   "source": [
    "Using the keyword argument `key` we can pass a function to the function `sorted`.\n",
    "\n",
    "`key` specifies a function of one argument that is used to compute a **comparison key** from each list element. The key corresponding to each item in the list is calculated once and then used for the entire sorting process.\n",
    "\n",
    "We can assign to `key` a function defined using the `lambda` notation. The value returned by the function is the value computed by the statement. Namely, `len(x)` in this case."
   ]
  },
  {
   "cell_type": "code",
   "execution_count": null,
   "metadata": {},
   "outputs": [],
   "source": [
    "sorted(strings, key = lambda x: len(x))"
   ]
  },
  {
   "cell_type": "markdown",
   "metadata": {},
   "source": [
    "In the next example, we use an anonymous function to sort a list of tuples according to a specific component of the tuple."
   ]
  },
  {
   "cell_type": "code",
   "execution_count": null,
   "metadata": {},
   "outputs": [],
   "source": [
    "student_tuples = [\n",
    "    ('john', 'M', 15),\n",
    "    ('jane', 'F', 12),\n",
    "    ('dave', 'M', 10),\n",
    "]\n",
    "sorted(student_tuples, key = lambda s: s[2])"
   ]
  },
  {
   "cell_type": "markdown",
   "metadata": {},
   "source": [
    "## Modules\n",
    "Writing a Python module on file is easy. We use the cell magic command `%% writefile <filename>` to write the content of a cell to a file."
   ]
  },
  {
   "cell_type": "code",
   "execution_count": null,
   "metadata": {},
   "outputs": [],
   "source": [
    "%%writefile fibo.py\n",
    "\n",
    "# Fibonacci numbers module, 1, 1, 2, 3, 5, 8, 13, ...\n",
    "\n",
    "def fib(n):    # print Fibonacci series up to n\n",
    "    a, b = 0, 1\n",
    "    print(b, end=\" \")\n",
    "    while (n >= 2):\n",
    "        f = a + b\n",
    "        print(f, end=\" \")\n",
    "        a, b = b, f\n",
    "        n -= 1\n",
    "\n",
    "def fib2(n):   # return Fibonacci series up to n\n",
    "    a, b = 0, 1\n",
    "    result = [1]\n",
    "    while (n >= 2):\n",
    "        f = a + b\n",
    "        result.append(f)\n",
    "        a, b = b, f\n",
    "        n -= 1\n",
    "    return result"
   ]
  },
  {
   "cell_type": "markdown",
   "metadata": {},
   "source": [
    "We check that the file has been indeed written"
   ]
  },
  {
   "cell_type": "code",
   "execution_count": null,
   "metadata": {},
   "outputs": [],
   "source": [
    "!cat fibo.py"
   ]
  },
  {
   "cell_type": "markdown",
   "metadata": {},
   "source": [
    "Note that the functions `fib()` and `fib2()` are not defined yet (the magic command just wrote them on file).\n",
    "\n",
    "Indeed, issuing `fib(5)` now would result in an error message\n",
    "\n",
    "Hence we need to load the module."
   ]
  },
  {
   "cell_type": "code",
   "execution_count": null,
   "metadata": {},
   "outputs": [],
   "source": [
    "import fibo\n",
    "fibo.fib(5)"
   ]
  },
  {
   "cell_type": "markdown",
   "metadata": {},
   "source": [
    "Another useful magic command is `%timeit`, which automatically computes the execution time of the single-line Python statement that follows it by performing multiple runs."
   ]
  },
  {
   "cell_type": "code",
   "execution_count": null,
   "metadata": {},
   "outputs": [],
   "source": [
    "%timeit [n ** 2 for n in range(1000)]"
   ]
  },
  {
   "cell_type": "markdown",
   "metadata": {},
   "source": [
    "This can be used to compare the efficiency of different approaches to perform a certain task.\n",
    "\n",
    "For example, the next cell shows that list comprehensions are more than 10% faster than equivalent for loops.\n",
    "\n",
    "In this case, we use the *cell mode* version of the command, where the statement in the first line is used as setup code (executed but not timed) and the body of the cell is timed. "
   ]
  },
  {
   "cell_type": "code",
   "execution_count": null,
   "metadata": {},
   "outputs": [],
   "source": [
    "%%timeit L = []\n",
    "for n in range(1000):\n",
    "    L.append(n ** 2)"
   ]
  }
 ],
 "metadata": {
  "kernelspec": {
   "display_name": "Python 3 (ipykernel)",
   "language": "python",
   "name": "python3"
  },
  "language_info": {
   "codemirror_mode": {
    "name": "ipython",
    "version": 3
   },
   "file_extension": ".py",
   "mimetype": "text/x-python",
   "name": "python",
   "nbconvert_exporter": "python",
   "pygments_lexer": "ipython3",
   "version": "3.9.7"
  },
  "latex_envs": {
   "LaTeX_envs_menu_present": true,
   "autoclose": false,
   "autocomplete": true,
   "bibliofile": "biblio.bib",
   "cite_by": "apalike",
   "current_citInitial": 1,
   "eqLabelWithNumbers": true,
   "eqNumInitial": 1,
   "hotkeys": {
    "equation": "Ctrl-E",
    "itemize": "Ctrl-I"
   },
   "labels_anchors": false,
   "latex_user_defs": false,
   "report_style_numbering": false,
   "user_envs_cfg": false
  }
 },
 "nbformat": 4,
 "nbformat_minor": 2
}
