{
 "cells": [
  {
   "cell_type": "markdown",
   "metadata": {},
   "source": [
    "# Flow control\n",
    "\n",
    "The code in a cell is executed sequentially (one line after the other). However, every programming language provides statements that alter this sequential order of execution.\n",
    "\n",
    "Besides sequential computation, there are two additional type of *flow control statements*: **selection** (`if ... then ... else`) and **iteration** (`for` and `while`).\n",
    "\n",
    "In any programmaing language, **sequence**, **selection**, and **iteration** are sufficient to implement any algorithm.\n",
    "\n",
    "### Selection\n",
    "The syntax of **if ... then** is the following\n",
    "```\n",
    "if <condition 1>:\n",
    "    <code block 1>\n",
    "elif <condition 2>:\n",
    "    <code block 2>\n",
    "else:\n",
    "    <code block 3>\n",
    "```\n",
    "Note: In Python, a **code block** must be preceded by `:` and indented by the same amount of spaces or tabs.\n",
    "\n",
    "A **condition** is any expression with a value of Boolean type.\n",
    "\n",
    "In the selection statement, the interpreter executes only one code block according to the following rule:\n",
    "- `code block 1` if `condition 1` is true\n",
    "- otherwise `code block 2` if `condition 2` is true\n",
    "- otherwise `code block 3`\n",
    "\n",
    "**Note that:**\n",
    "- There can be zero or more than one `elif` clauses. If there is more than one, the code block that gets executed is the first one whose associated condition is true.\n",
    "- If the `else` clause is missing, then no code block might get executed. "
   ]
  },
  {
   "cell_type": "code",
   "execution_count": null,
   "metadata": {},
   "outputs": [],
   "source": [
    "x = 'pluto'\n",
    "if x == 'pippo':\n",
    "    print('Hello')\n",
    "    print('Pippo')\n",
    "else:\n",
    "    print('Bye')\n",
    "    print('Not Pippo')"
   ]
  },
  {
   "cell_type": "code",
   "execution_count": null,
   "metadata": {},
   "outputs": [],
   "source": [
    "x = 30\n",
    "if x >= 90:\n",
    "    print('Large')\n",
    "elif x >= 75:\n",
    "    print('Large or medium')\n",
    "elif x >= 60:\n",
    "    print('Large, medium, or small')\n",
    "else:\n",
    "    print('Very small')"
   ]
  },
  {
   "cell_type": "markdown",
   "metadata": {},
   "source": [
    "### Ternary expressions\n",
    "A *ternary expression* allows to combine in a single expression an *if-else* block that produces a single value.\n",
    "```\n",
    "if <condition>:\n",
    "    value = <expression 1>\n",
    "else:\n",
    "    value = <expression 2>\n",
    "```\n",
    "can be equivalently written as\n",
    "```\n",
    "value = <expression 1> if <condition> else <expression 2>\n",
    "```\n",
    "Here is a simple example"
   ]
  },
  {
   "cell_type": "code",
   "execution_count": null,
   "metadata": {},
   "outputs": [],
   "source": [
    "x = 5\n",
    "if x >= 0:\n",
    "    s = \"nonnegative\"\n",
    "else:\n",
    "    s = \"negative\"\n",
    "s"
   ]
  },
  {
   "cell_type": "markdown",
   "metadata": {},
   "source": [
    "The above code is equivalent to the one below here."
   ]
  },
  {
   "cell_type": "code",
   "execution_count": null,
   "metadata": {},
   "outputs": [],
   "source": [
    "x = 5\n",
    "s = \"nonnegative\" if x >= 0 else \"negative\"\n",
    "s"
   ]
  },
  {
   "cell_type": "markdown",
   "metadata": {},
   "source": [
    "### For loops\n",
    "The syntax of the **for** statement is the following:\n",
    "```\n",
    "for <variable> in <sequence>:\n",
    "    <code block>\n",
    "```\n",
    "`sequence` can be a list, a tuple, a set, or any *iterable* collection. The interpreter iterates over the elements of the sequence. At each iteration, the code block is executed with `variable` assigned to the current element of the sequence.\n",
    "\n",
    "Here is an example using the built-in constant `None`."
   ]
  },
  {
   "cell_type": "code",
   "execution_count": null,
   "metadata": {},
   "outputs": [],
   "source": [
    "x = [1, 2, None, 4, 0, 5]\n",
    "count = 0\n",
    "for v in x:\n",
    "    if v : # recall the rules for assigning a truth value to non-boolean objects\n",
    "        count += v\n",
    "print(count)"
   ]
  },
  {
   "cell_type": "markdown",
   "metadata": {},
   "source": [
    "### While loops\n",
    "The **while** statement has the following syntax:\n",
    "```\n",
    "while <condition>:\n",
    "    <code block>\n",
    "```\n",
    "The interpreter cycles over the two following operations:\n",
    "1. Check `condition`\n",
    "2. If `condition` is true, then execute the code block\n",
    "\n",
    "Typically, `condition` contains variables, and the instructions in the code block modify these variables. "
   ]
  },
  {
   "cell_type": "code",
   "execution_count": null,
   "metadata": {},
   "outputs": [],
   "source": [
    "# Print the first 10 values of the Fibonacci sequence 1,1,2,3,5,8,13,...\n",
    "a, b, n = 0, 1, 10\n",
    "print(b, end=\" \") # print the first term\n",
    "while (n >= 2): # parenthesis can be omitted\n",
    "    f = a + b # compute next element of Fibonacci sequence\n",
    "    print(f, end=\" \") # end is a string appended after the last value (default newline)\n",
    "    a, b = b, f\n",
    "    n -= 1"
   ]
  },
  {
   "cell_type": "markdown",
   "metadata": {},
   "source": [
    "## Ranges\n",
    "The `range` type represents an **immutable sequence of numbers** and is commonly used inside for loops for cycling a specific number of times."
   ]
  },
  {
   "cell_type": "code",
   "execution_count": null,
   "metadata": {},
   "outputs": [],
   "source": [
    "for x in [0, 1, 2, 3, 4, 5, 6, 7, 8, 9]:\n",
    "    if x % 2 != 0:\n",
    "        print(x**2, end=' ')"
   ]
  },
  {
   "cell_type": "code",
   "execution_count": null,
   "metadata": {},
   "outputs": [],
   "source": [
    "r = range(10)\n",
    "type(r)"
   ]
  },
  {
   "cell_type": "code",
   "execution_count": null,
   "metadata": {},
   "outputs": [],
   "source": [
    "r"
   ]
  },
  {
   "cell_type": "code",
   "execution_count": null,
   "metadata": {},
   "outputs": [],
   "source": [
    "list(r)"
   ]
  },
  {
   "cell_type": "code",
   "execution_count": null,
   "metadata": {},
   "outputs": [],
   "source": [
    "for x in range(10):\n",
    "    if x % 2 != 0:\n",
    "        print(x**2, end=' ')"
   ]
  },
  {
   "cell_type": "markdown",
   "metadata": {},
   "source": [
    "If we specify `start` and `stop` values, then the range object contains all integers from `start` to `stop-1`."
   ]
  },
  {
   "cell_type": "code",
   "execution_count": null,
   "metadata": {},
   "outputs": [],
   "source": [
    "list(range(1, 11))"
   ]
  },
  {
   "cell_type": "markdown",
   "metadata": {},
   "source": [
    "If we specify a `step` values, then the range contains integers of the form `r[i] = start + step*i` and satisfying the condition `r[i] < stop`."
   ]
  },
  {
   "cell_type": "code",
   "execution_count": null,
   "metadata": {},
   "outputs": [],
   "source": [
    "list(range(0, 10, 3))"
   ]
  },
  {
   "cell_type": "markdown",
   "metadata": {},
   "source": [
    "`range(0)` and `range(1,0)` both correspond to the empty list `[]`."
   ]
  },
  {
   "cell_type": "code",
   "execution_count": null,
   "metadata": {},
   "outputs": [],
   "source": [
    "list(range(0))"
   ]
  },
  {
   "cell_type": "code",
   "execution_count": null,
   "metadata": {},
   "outputs": [],
   "source": [
    "list(range(1,1))"
   ]
  },
  {
   "cell_type": "markdown",
   "metadata": {},
   "source": [
    "## Break and continue statements\n",
    "The `break` statement breaks out of the innermost enclosing `for` or `while` loop.\n",
    "\n",
    "Loop statements may have an `else` clause; it is executed when the loop terminates, but not when the loop is terminated by a `break` statement."
   ]
  },
  {
   "cell_type": "code",
   "execution_count": null,
   "metadata": {
    "scrolled": true
   },
   "outputs": [],
   "source": [
    "for n in range(2, 10): # n is the current candidate for prime\n",
    "    for x in range(2, n): # checking whether n is prime\n",
    "        if n % x == 0:\n",
    "            print(n, 'equals', x, '*', n//x)\n",
    "            break\n",
    "    else:\n",
    "        print(n, 'is a prime number')"
   ]
  },
  {
   "cell_type": "markdown",
   "metadata": {},
   "source": [
    "The `continue` statement causes the loop to continue with the next iteration."
   ]
  },
  {
   "cell_type": "code",
   "execution_count": null,
   "metadata": {},
   "outputs": [],
   "source": [
    "x = [3, 2, 6, 8, 9, 0, 5, 7]\n",
    "sum = 0\n",
    "for v in x: # go over the list\n",
    "    if v == 0: # stop when a zero is encountered\n",
    "        break\n",
    "    elif v % 2 == 1: # skip odd elements\n",
    "        continue\n",
    "    sum += v # sum even elements\n",
    "print(sum)"
   ]
  },
  {
   "cell_type": "markdown",
   "metadata": {},
   "source": [
    "Here is another example of a code using iteration and selection with the continue statement."
   ]
  },
  {
   "cell_type": "code",
   "execution_count": null,
   "metadata": {},
   "outputs": [],
   "source": [
    "for eleven in range(10,16):\n",
    "    if eleven % 3 == 0 and eleven % 5 == 0: # checks if it is a multiple of 15\n",
    "        print(\"eleven\")\n",
    "        continue\n",
    "    elif eleven % 3 == 0: # checks if it is a multiple of 3\n",
    "        print(\"el\")\n",
    "        continue\n",
    "    elif eleven % 5 == 0: # checks if it is a multiple of 5\n",
    "        print(\"even\")\n",
    "        continue\n",
    "    print(eleven)"
   ]
  },
  {
   "cell_type": "markdown",
   "metadata": {},
   "source": [
    "A more articulated example with the code to play Rock-Paper-Scissors against the computer playing at random.\n",
    "\n",
    "`import random` imports the module for random number generation (see below for more info on modules)\n",
    "\n",
    "`random.choice()` returns a random element from the non-empty sequence given as argument\n",
    "\n",
    "`input()` built-in function to read a string from the standard input"
   ]
  },
  {
   "cell_type": "code",
   "execution_count": null,
   "metadata": {},
   "outputs": [],
   "source": [
    "import random\n",
    "\n",
    "choices = [\"Rock\", \"Paper\", \"Scissors\"]\n",
    "\n",
    "player = False\n",
    "cpu_score = 0\n",
    "player_score = 0\n",
    "\n",
    "while True: # Infinite cycle\n",
    "    player = input(\"Rock, Paper or Scissors? (E to end) \").capitalize() # Read the user's move\n",
    "    computer = random.choice(choices) # Draw the computer's move\n",
    "    if player == computer:\n",
    "        print(\"Tie!\")\n",
    "    elif player == \"Rock\":\n",
    "        if computer == \"Paper\":\n",
    "            print(\"You lose!\", computer, \"covers\", player)\n",
    "            cpu_score += 1\n",
    "        else:\n",
    "            print(\"You win!\", player, \"smashes\", computer)\n",
    "            player_score += 1\n",
    "    elif player == \"Paper\":\n",
    "        if computer == \"Scissors\":\n",
    "            print(\"You lose!\", computer, \"cut\", player)\n",
    "            cpu_score += 1\n",
    "        else:\n",
    "            print(\"You win!\", player, \"covers\", computer)\n",
    "            player_score += 1\n",
    "    elif player == \"Scissors\":\n",
    "        if computer == \"Rock\":\n",
    "            print(\"You lose!\", computer, \"smashes\", player)\n",
    "            cpu_score += 1\n",
    "        else:\n",
    "            print(\"You win!\", player, \"cut\", computer)\n",
    "            player_score += 1\n",
    "    elif player=='E':\n",
    "        print(\"Final Scores\")\n",
    "        print(\"CPU: \", cpu_score)\n",
    "        print(\"Player: \", player_score)\n",
    "        break\n",
    "    else:\n",
    "        print(\"That's not a valid play. Check your spelling!\")"
   ]
  },
  {
   "cell_type": "markdown",
   "metadata": {},
   "source": [
    "# List comprehensions\n",
    "\n",
    "Comprehensions provide a compact way to **filter elements from a sequence**. In case of lists, they allow to write the following for loop\n",
    "```\n",
    "result = []\n",
    "for <variable> in <sequence>:\n",
    "    if <condition>:\n",
    "        result.append(<expression>)\n",
    "```\n",
    "in the following equivalent form\n",
    "```\n",
    "[<expression> for <variable> in <sequence> if <condition>]\n",
    "```\n",
    "Here is a simple example."
   ]
  },
  {
   "cell_type": "code",
   "execution_count": null,
   "metadata": {},
   "outputs": [],
   "source": [
    "strings = ['foo', 'bar', 'baz', 'f', 'fo', 'b', 'ba']\n",
    "result = []\n",
    "for x in strings:\n",
    "    if (x[0] == 'b'):\n",
    "        result.append(x.upper())\n",
    "result"
   ]
  },
  {
   "cell_type": "code",
   "execution_count": null,
   "metadata": {},
   "outputs": [],
   "source": [
    "strings = ['foo', 'bar', 'baz', 'f', 'fo', 'b', 'ba']\n",
    "[x.upper() for x in strings if x[0] == 'b']"
   ]
  },
  {
   "cell_type": "markdown",
   "metadata": {},
   "source": [
    "The expression part in a list comprehension can be complex. In the following example, the expression builds a tuple of two elements."
   ]
  },
  {
   "cell_type": "code",
   "execution_count": null,
   "metadata": {
    "scrolled": true
   },
   "outputs": [],
   "source": [
    "[(x, x**2) for x in range(6)]"
   ]
  },
  {
   "cell_type": "markdown",
   "metadata": {},
   "source": [
    "List comprehensions can be nested. Here is an example where we extract the integers from a list of tuples of integers (an operation called *flattening*)."
   ]
  },
  {
   "cell_type": "code",
   "execution_count": null,
   "metadata": {},
   "outputs": [],
   "source": [
    "x = [(1, 2, 3), (4, 5, 6)]\n",
    "result = []\n",
    "for t in x:\n",
    "    for v in t:\n",
    "        result.append(v)\n",
    "result"
   ]
  },
  {
   "cell_type": "code",
   "execution_count": null,
   "metadata": {},
   "outputs": [],
   "source": [
    "x = [(1, 2, 3), (4, 5, 6)]\n",
    "[v for t in x for v in t]"
   ]
  },
  {
   "cell_type": "markdown",
   "metadata": {},
   "source": [
    "Here is another example where we square even numbers and set to 1 odd numbers.\n",
    "\n",
    "Note that the expression part is a ternary expression."
   ]
  },
  {
   "cell_type": "code",
   "execution_count": null,
   "metadata": {},
   "outputs": [],
   "source": [
    "x = range(6)\n",
    "[v ** 2 if v % 2 == 0 else 1 for v in x]"
   ]
  },
  {
   "cell_type": "markdown",
   "metadata": {},
   "source": [
    "# Importing a module\n",
    "\n",
    "A module in python is a file with a `.py` extension containing code defining functions, constants, and types that are not available as built-in entities.\n",
    "\n",
    "The `import` statement is used to load a module. The imported functions, constants, and types are available **prefixed with the module name**."
   ]
  },
  {
   "cell_type": "code",
   "execution_count": null,
   "metadata": {},
   "outputs": [],
   "source": [
    "import math\n",
    "math.pi"
   ]
  },
  {
   "cell_type": "markdown",
   "metadata": {},
   "source": [
    "Instead of importing an entire module, we can import one or more functions, constants, or types.\n",
    "\n",
    "In this case the imported names are available without the module prefix."
   ]
  },
  {
   "cell_type": "code",
   "execution_count": null,
   "metadata": {},
   "outputs": [],
   "source": [
    "from math import pi\n",
    "pi"
   ]
  },
  {
   "cell_type": "code",
   "execution_count": null,
   "metadata": {},
   "outputs": [],
   "source": [
    "ages = [24, 17, 72, 36, 56, 20]\n",
    "from statistics import mean\n",
    "mean(ages)"
   ]
  },
  {
   "cell_type": "markdown",
   "metadata": {},
   "source": [
    "By using the keyword `as` we can change the name of the imported element or module."
   ]
  },
  {
   "cell_type": "code",
   "execution_count": null,
   "metadata": {},
   "outputs": [],
   "source": [
    "from statistics import median as med\n",
    "med(ages)"
   ]
  },
  {
   "cell_type": "code",
   "execution_count": null,
   "metadata": {},
   "outputs": [],
   "source": [
    "import statistics as stat\n",
    "stat.stdev(ages)"
   ]
  },
  {
   "cell_type": "markdown",
   "metadata": {},
   "source": [
    "We now see list comprehensions in action on data uploaded from a file. Before that, let's introduce the `with` statement for opening files. Its syntax is\n",
    "```\n",
    "with open(<filename>) as <variable>:\n",
    "    <code block>\n",
    "```\n",
    "`<variable>` is the *handle* for the file. We can treat it as a list and iterate over the file lines.\n",
    "\n",
    "\n",
    "The file is `Datasets/diabetes.csv`. We can take a look at it using the Unix shell command `cat` to print a file on screen. Shell commands can be invoked from Jupyter using `!`. So the complete command is `!cat Datasets/diabetes.csv`"
   ]
  },
  {
   "cell_type": "code",
   "execution_count": null,
   "metadata": {},
   "outputs": [],
   "source": [
    "!cat Datasets/diabetes.csv"
   ]
  },
  {
   "cell_type": "markdown",
   "metadata": {},
   "source": [
    "This is the *Pima Indian Diabetes Database*. The dataset was prepared with the purpose of training machine learning algorithms to predict whether or not a patient has diabetes based on a set of diagnostic measurements: pregnancies, glucose, blood pressure, skin thickness, insulin, BMI, diabetes pedigree function, age.\n",
    "\n",
    "We open the file for reading and assign the handle to `pima_file`. Then, we use a list comprehension to build a list whose elements are the lines in the file."
   ]
  },
  {
   "cell_type": "code",
   "execution_count": null,
   "metadata": {
    "scrolled": false
   },
   "outputs": [],
   "source": [
    "with open('Datasets/diabetes.csv') as pima_file:\n",
    "    lines = [x for x in pima_file]\n",
    "lines[:10]"
   ]
  },
  {
   "cell_type": "markdown",
   "metadata": {},
   "source": [
    "Note that each line is terminated by a newline `\\n` character.\n",
    "\n",
    "We can process csv files more efficiently using the csv module. This module provides the function `reader()` which returns an object of type `reader` containing all the lines in the file, without the newline character, and broken in substrings using a specified delimiter character (comma in our case).\n",
    "\n",
    "The reader object can then be converted into a list of lists using the type constructor `list()`."
   ]
  },
  {
   "cell_type": "code",
   "execution_count": null,
   "metadata": {},
   "outputs": [],
   "source": [
    "import csv\n",
    "with open('Datasets/diabetes.csv') as pima_file:\n",
    "    pima_reader = csv.reader(pima_file, delimiter=',')\n",
    "    lines = list(pima_reader)\n",
    "del lines[0]"
   ]
  },
  {
   "cell_type": "markdown",
   "metadata": {},
   "source": [
    "Note that we got rid of the first line of the file with a `del` command."
   ]
  },
  {
   "cell_type": "code",
   "execution_count": null,
   "metadata": {},
   "outputs": [],
   "source": [
    "lines[:10]"
   ]
  },
  {
   "cell_type": "markdown",
   "metadata": {},
   "source": [
    "We can use another list comprehension to extract the element in position 7 in each line (the age column) and then apply the type constructor `float()` to turn it into a float."
   ]
  },
  {
   "cell_type": "code",
   "execution_count": null,
   "metadata": {},
   "outputs": [],
   "source": [
    "ages = [float(v[7]) for v in lines]\n",
    "ages[:10]"
   ]
  },
  {
   "cell_type": "markdown",
   "metadata": {},
   "source": [
    "We want to plot a histogram of these ages. We first create the histogram bins using the `range()` type constructor."
   ]
  },
  {
   "cell_type": "code",
   "execution_count": null,
   "metadata": {},
   "outputs": [],
   "source": [
    "age_bins = list(range(20, 80, 5))\n",
    "age_bins"
   ]
  },
  {
   "cell_type": "markdown",
   "metadata": {},
   "source": [
    "In order to plot the histogram, we load the interface `pyplot` of the module `matplotlib` and assign it the conventional name `plt`. Then we construct the histogram with the function `hist()` and print it with the function `show()`.\n",
    "\n",
    "The *magic command* `%matplotlib notebook` provides nice display capabilities for matplotlib in Jupyter notebooks\n",
    "\n",
    "Magic commands are executed by the kernel and allow to perform various tasks."
   ]
  },
  {
   "cell_type": "code",
   "execution_count": null,
   "metadata": {
    "scrolled": false
   },
   "outputs": [],
   "source": [
    "%matplotlib notebook\n",
    "import matplotlib.pyplot as plt\n",
    "plt.hist(ages, bins=age_bins) # Compute the histogram\n",
    "plt.show() # Print the histogram"
   ]
  },
  {
   "cell_type": "markdown",
   "metadata": {},
   "source": [
    "Note that we invoked the method `hist()` with arguments `ages` and `bins=age_bins`. In Python, function arguments can be **positional** like `ages` or **keyword** like `bins`.\n",
    "\n",
    "Positional arguments are order-dependent and must precede keyword arguments. Keyword arguments, instead, are order-independent."
   ]
  },
  {
   "cell_type": "markdown",
   "metadata": {},
   "source": [
    "## Dictionaries\n",
    "\n",
    "The built-in type `dict` implements a **mutable collection of key-value pairs**, a data structure widely used in practice. \n",
    "\n",
    "Dicts can be created using the syntax\n",
    "```\n",
    "{key_1 : value_1, ..., key_n : value_n}\n",
    "```"
   ]
  },
  {
   "cell_type": "code",
   "execution_count": null,
   "metadata": {},
   "outputs": [],
   "source": [
    "d = {7 : 'pippo', 'b' : [1, 2, 3]}\n",
    "type(d)"
   ]
  },
  {
   "cell_type": "markdown",
   "metadata": {},
   "source": [
    "While the values can be any object, keys are restricted to be scalar (int, float, bool, str) or tuples containing immutable objects. We can check whether an object can be used as a key using the `hash()` built-in function, which returns a hash code of its argument."
   ]
  },
  {
   "cell_type": "code",
   "execution_count": null,
   "metadata": {},
   "outputs": [],
   "source": [
    "hash(((1, 2, 3), 'pippo'))"
   ]
  },
  {
   "cell_type": "markdown",
   "metadata": {},
   "source": [
    "We can access the value associated with a key in a `dict` via the indexing operator `[]`."
   ]
  },
  {
   "cell_type": "code",
   "execution_count": null,
   "metadata": {},
   "outputs": [],
   "source": [
    "d['b']"
   ]
  },
  {
   "cell_type": "markdown",
   "metadata": {},
   "source": [
    "Adding elements to a dictionary is also done via the indexing operator, `dict_name[<key>] = <value>`"
   ]
  },
  {
   "cell_type": "code",
   "execution_count": null,
   "metadata": {},
   "outputs": [],
   "source": [
    "d[(1,2)] = 3\n",
    "d"
   ]
  },
  {
   "cell_type": "markdown",
   "metadata": {},
   "source": [
    "We can search for a key using the `in` operator, and delete an entry using the `del()` keyword or the `pop()` method."
   ]
  },
  {
   "cell_type": "code",
   "execution_count": null,
   "metadata": {},
   "outputs": [],
   "source": [
    "'b' in d"
   ]
  },
  {
   "cell_type": "code",
   "execution_count": null,
   "metadata": {},
   "outputs": [],
   "source": [
    "del d['b']\n",
    "d"
   ]
  },
  {
   "cell_type": "code",
   "execution_count": null,
   "metadata": {},
   "outputs": [],
   "source": [
    "d.pop(7)"
   ]
  },
  {
   "cell_type": "code",
   "execution_count": null,
   "metadata": {},
   "outputs": [],
   "source": [
    "d"
   ]
  },
  {
   "cell_type": "markdown",
   "metadata": {},
   "source": [
    "Similarly to the method `extend()` for lists, the method `update()` merges two dictionaries."
   ]
  },
  {
   "cell_type": "code",
   "execution_count": null,
   "metadata": {},
   "outputs": [],
   "source": [
    "d = {} # empty dictionary\n",
    "d2 = {0: 'a', 1 : 'b', 2 : 'c'}\n",
    "d.update(d2)\n",
    "d"
   ]
  },
  {
   "cell_type": "markdown",
   "metadata": {},
   "source": [
    "In a merge, existing keys are overwritten."
   ]
  },
  {
   "cell_type": "code",
   "execution_count": null,
   "metadata": {},
   "outputs": [],
   "source": [
    "d3 = {2: 'alpha', 3: 'bravo'}\n",
    "d.update(d3)\n",
    "d"
   ]
  },
  {
   "cell_type": "markdown",
   "metadata": {},
   "source": [
    "Similarly to sets, key-value pairs in a dictionary are unordered."
   ]
  },
  {
   "cell_type": "code",
   "execution_count": null,
   "metadata": {},
   "outputs": [],
   "source": [
    "d1 = {1: 'Mamas', 2: 'Papas'}\n",
    "d2 = {2: 'Papas', 1: 'Mamas'}\n",
    "d1 == d2"
   ]
  },
  {
   "cell_type": "markdown",
   "metadata": {},
   "source": [
    "We can extract the keys and the values in a dictionary using the methods `keys()` and `values()`. Since these methods return specific objects, we can use the type constructor `list()` to make them into lists."
   ]
  },
  {
   "cell_type": "code",
   "execution_count": null,
   "metadata": {},
   "outputs": [],
   "source": [
    "list(d.keys())"
   ]
  },
  {
   "cell_type": "code",
   "execution_count": null,
   "metadata": {},
   "outputs": [],
   "source": [
    "list(d.values())"
   ]
  },
  {
   "cell_type": "markdown",
   "metadata": {},
   "source": [
    "Similarly, the method `items()` can be used to obtain a list of tuples `(key, value)`."
   ]
  },
  {
   "cell_type": "code",
   "execution_count": null,
   "metadata": {},
   "outputs": [],
   "source": [
    "list(d.items())"
   ]
  },
  {
   "cell_type": "markdown",
   "metadata": {},
   "source": [
    "The structure returned by `items()` can be used to iterate over the pairs (key,value) of a dictionary."
   ]
  },
  {
   "cell_type": "code",
   "execution_count": null,
   "metadata": {
    "scrolled": true
   },
   "outputs": [],
   "source": [
    "d = {'person': 2, 'cat': 4, 'spider': 8}\n",
    "for (animal, legs) in d.items():\n",
    "    print(animal + ' = ' + str(legs)) # use the type constructor str() to convert an int into a string"
   ]
  },
  {
   "cell_type": "markdown",
   "metadata": {},
   "source": [
    "In order to create a dictionary, we can use use the indexing operator."
   ]
  },
  {
   "cell_type": "code",
   "execution_count": null,
   "metadata": {},
   "outputs": [],
   "source": [
    "d = {}\n",
    "a = [0, 1, 2]\n",
    "for key in a:\n",
    "    d[key] = key**2\n",
    "d"
   ]
  },
  {
   "cell_type": "markdown",
   "metadata": {},
   "source": [
    "If key and values are available as lists, we can create the dictionary using the type constructor `dict()` applied to a zip object."
   ]
  },
  {
   "cell_type": "code",
   "execution_count": null,
   "metadata": {},
   "outputs": [],
   "source": [
    "a = [0, 1, 2]\n",
    "b = ['pippo', 'pluto', 'paperino']\n",
    "d = dict(zip(a,b))\n",
    "d"
   ]
  },
  {
   "cell_type": "markdown",
   "metadata": {},
   "source": [
    "Alternatively, we can use a **dict comprehension**"
   ]
  },
  {
   "cell_type": "code",
   "execution_count": null,
   "metadata": {},
   "outputs": [],
   "source": [
    "nums = range(0,10)\n",
    "d = {x : x**2 for x in nums if x % 2 == 0}\n",
    "d"
   ]
  },
  {
   "cell_type": "markdown",
   "metadata": {},
   "source": [
    "Similarly to list comprehensions, the above corresponds to the following code. "
   ]
  },
  {
   "cell_type": "code",
   "execution_count": null,
   "metadata": {},
   "outputs": [],
   "source": [
    "d = {}\n",
    "for x in range(0,10):\n",
    "    if x % 2 == 0:\n",
    "        d[x] = x**2\n",
    "d"
   ]
  },
  {
   "cell_type": "markdown",
   "metadata": {},
   "source": [
    "## Sorting\n",
    "Python has a `sorted()` built-in function that builds a **new sorted list** from any object whose elements can be enumerated (lists, tuples, strings, dictionaries). These objects are called *iterables* in Python.\n",
    "\n",
    "Lists have also a built-in `list.sort()` method that modifies the list **in-place**."
   ]
  },
  {
   "cell_type": "code",
   "execution_count": null,
   "metadata": {},
   "outputs": [],
   "source": [
    "a = [5, 2, 3, 1, 4]\n",
    "b = sorted(a)\n",
    "print(\"a = \" + str(a))\n",
    "print(\"b = \" + str(b))"
   ]
  },
  {
   "cell_type": "code",
   "execution_count": null,
   "metadata": {},
   "outputs": [],
   "source": [
    "a = [5, 2, 3, 1, 4]\n",
    "a.sort()\n",
    "a"
   ]
  },
  {
   "cell_type": "markdown",
   "metadata": {},
   "source": [
    "Note that sorting a dictionary returns a list of sorted keys, whereas sorting the structure returned by `items()` returns a list of key-value tuples ordered by keys."
   ]
  },
  {
   "cell_type": "code",
   "execution_count": null,
   "metadata": {},
   "outputs": [],
   "source": [
    "d = {'person': 2, 'cat': 4, 'spider': 8}\n",
    "print(sorted(d))\n",
    "print(sorted(d.items()))"
   ]
  }
 ],
 "metadata": {
  "kernelspec": {
   "display_name": "Python 3",
   "language": "python",
   "name": "python3"
  },
  "language_info": {
   "codemirror_mode": {
    "name": "ipython",
    "version": 3
   },
   "file_extension": ".py",
   "mimetype": "text/x-python",
   "name": "python",
   "nbconvert_exporter": "python",
   "pygments_lexer": "ipython3",
   "version": "3.8.5"
  },
  "latex_envs": {
   "LaTeX_envs_menu_present": true,
   "autoclose": false,
   "autocomplete": true,
   "bibliofile": "biblio.bib",
   "cite_by": "apalike",
   "current_citInitial": 1,
   "eqLabelWithNumbers": true,
   "eqNumInitial": 1,
   "hotkeys": {
    "equation": "Ctrl-E",
    "itemize": "Ctrl-I"
   },
   "labels_anchors": false,
   "latex_user_defs": false,
   "report_style_numbering": false,
   "user_envs_cfg": false
  }
 },
 "nbformat": 4,
 "nbformat_minor": 2
}
