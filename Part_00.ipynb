{
 "cells": [
  {
   "cell_type": "markdown",
   "metadata": {
    "slideshow": {
     "slide_type": "slide"
    }
   },
   "source": [
    "# Coding for Data Science\n",
    "## Module: Python (20 hours)\n",
    "\n",
    "## *Instructor: Nicolò Cesa-Bianchi*\n",
    "\n",
    "Course page: http://cesa-bianchi.di.unimi.it/CDS/"
   ]
  },
  {
   "cell_type": "markdown",
   "metadata": {
    "slideshow": {
     "slide_type": "slide"
    }
   },
   "source": [
    "## Goals\n",
    "- Focus on **combining tools** as opposed to **programming**\n",
    "- How to use coding tools to understand the **geometry of data**\n",
    "- Basics of data analytics, machine learning, and visualization"
   ]
  },
  {
   "cell_type": "markdown",
   "metadata": {
    "slideshow": {
     "slide_type": "slide"
    }
   },
   "source": [
    "## Syllabus\n",
    "- A **short tour** of Python (no modules, no error handling, no classes)\n",
    "- Linear algebra with **Numpy**\n",
    "- Data analysis with **Pandas**\n",
    "- Data visualization with **Matplotlib**\n",
    "- Machine learning with **Scikit-learn**\n",
    "\n",
    "Course web page: http://cesa-bianchi.di.unimi.it/CDS/"
   ]
  },
  {
   "cell_type": "markdown",
   "metadata": {
    "slideshow": {
     "slide_type": "slide"
    }
   },
   "source": [
    "## Why Python\n",
    "- A full-fledged, object-oriented language with a syntax similar to other popular programming languages\n",
    "- Python's libraries for data science are an **industry standard for data science applications**\n",
    "- Popular language in Big Data, Deep Learning, Natural Language Processing, Collaborative filtering, and more"
   ]
  },
  {
   "cell_type": "markdown",
   "metadata": {
    "slideshow": {
     "slide_type": "slide"
    }
   },
   "source": [
    "## Jupyter Notebook\n",
    "- A web-based **interactive computational environment**\n",
    "- In-browser editing for code, with automatic syntax highlighting, indentation, and tab completion\n",
    "- The ability to **execute code from the browser**, with the results of computations attached to the code which generated them\n",
    "- Displaying the result of computation using rich media representations, such as HTML, LaTeX, PNG, SVG, etc\n",
    "- In-browser editing for rich text using the Markdown markup language, which can provide commentary for the code, is not limited to plain text\n",
    "- The ability to easily include mathematical notation within markdown cells using LaTeX, and rendered natively by MathJax\n",
    "- The Jupyter Notebook has become a popular user interface for cloud computing, and major cloud providers (SageMaker, Colab, Azure) have adopted Jupyter or derivative tools as a frontend interface for cloud users"
   ]
  },
  {
   "cell_type": "markdown",
   "metadata": {
    "slideshow": {
     "slide_type": "slide"
    }
   },
   "source": [
    "## Basic Jupyter elements\n",
    "- **Notebook server** started from the command line, `jupyter notebook`\n",
    "    - This will open a web browser to the URL of the web application (by default, http://localhost:8888)\n",
    "- **Dashboard:** for managing notebooks\n",
    "- **Notebooks:** documents that contain the inputs and outputs of an interactive session, as well as additional text that accompanies the code, but is not meant for execution\n",
    "    - The official Jupyter Notebook format is called `nbformat` and uses the open standard file format JSON\n",
    "- **Kernels:** Interfaces between **notebooks** and **programming languages**. When a code cell is executed, code that it contains is sent to the kernel associated with the notebook. The results that are returned from this computation are then displayed in the notebook as the cell’s output\n",
    "    - Besides Python, there are kernels for a growing set of languages (e.g., Julia, Haskell, Ruby, Erlang)"
   ]
  },
  {
   "cell_type": "markdown",
   "metadata": {
    "slideshow": {
     "slide_type": "slide"
    }
   },
   "source": [
    "## Installing Python\n",
    "- The Anaconda Distribution (https://www.anaconda.com/downloads) includes Python (including the data science libraries NumPy, Pandas, Matplotlb, Scikit-learn), the Jupyter Notebook, and many others. \n",
    "- Install the latest version for your platform (very easy, no admin account needed)"
   ]
  },
  {
   "cell_type": "markdown",
   "metadata": {},
   "source": [
    "## Linux example\n",
    "- Download installer (e.g., Anaconda3-2020.11-Linux-x86_64.sh) from the Anaconda website\n",
    "- Open terminal in the folder where the installer is downloaded\n",
    "- Make installer executable `chmod u+x Anaconda3-2020.11-Linux-x86_64.sh`\n",
    "- Run installer `./Anaconda3-2020.11-Linux-x86_64.sh`"
   ]
  },
  {
   "cell_type": "code",
   "execution_count": null,
   "metadata": {},
   "outputs": [],
   "source": [
    "!conda --version\n",
    "!jupyter --version\n",
    "!python --version"
   ]
  },
  {
   "cell_type": "markdown",
   "metadata": {
    "slideshow": {
     "slide_type": "slide"
    }
   },
   "source": [
    "## Documentation and tutorials\n",
    "- Jupyter: https://jupyter.readthedocs.io/en/latest/\n",
    "- Python: https://docs.python.org/3/\n",
    "- Numpy: http://www.numpy.org/\n",
    "- Pandas: http://pandas.pydata.org/pandas-docs/stable/\n",
    "- Matplotlib: https://matplotlib.org/\n",
    "\n",
    "## Some references\n",
    "- Python for Data Analysis (2nd Edition) https://www.oreilly.com/library/view/python-for-data/9781491957653/"
   ]
  },
  {
   "cell_type": "markdown",
   "metadata": {},
   "source": [
    "## Exam\n",
    "- There is no midterm for this module.\n",
    "- The section of the final exam for the Python module will consist of two exercises.\n",
    "    - The first exercise asks to determine the output of three short blocks of Python/Numpy/Pandas code (variants of code seen in class).\n",
    "    - The second exercise asks to briefly explain one of the machine learning topics covered in the course."
   ]
  },
  {
   "cell_type": "markdown",
   "metadata": {},
   "source": [
    "## Classes\n",
    "- Wednesday and Friday 8:45-10:15"
   ]
  }
 ],
 "metadata": {
  "kernelspec": {
   "display_name": "Python 3",
   "language": "python",
   "name": "python3"
  },
  "language_info": {
   "codemirror_mode": {
    "name": "ipython",
    "version": 3
   },
   "file_extension": ".py",
   "mimetype": "text/x-python",
   "name": "python",
   "nbconvert_exporter": "python",
   "pygments_lexer": "ipython3",
   "version": "3.8.5"
  },
  "latex_envs": {
   "LaTeX_envs_menu_present": true,
   "autoclose": false,
   "autocomplete": true,
   "bibliofile": "biblio.bib",
   "cite_by": "apalike",
   "current_citInitial": 1,
   "eqLabelWithNumbers": true,
   "eqNumInitial": 1,
   "hotkeys": {
    "equation": "Ctrl-E",
    "itemize": "Ctrl-I"
   },
   "labels_anchors": false,
   "latex_user_defs": false,
   "report_style_numbering": false,
   "user_envs_cfg": false
  }
 },
 "nbformat": 4,
 "nbformat_minor": 2
}
