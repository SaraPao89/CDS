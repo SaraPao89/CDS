{
 "cells": [
  {
   "cell_type": "markdown",
   "metadata": {},
   "source": [
    "# PCA with Numpy\n",
    "In this notebook, we use Numpy to study Principal Component Analysis (PCA), a technique that allows to project data onto a lower-dimensional space without losing too much information.\n",
    "\n",
    "We import the following packages:\n",
    "- Numpy for linear algebra tools\n",
    "- Matplotlib for visualization\n",
    "- Pandas to manipulate datasets.\n",
    "\n",
    "Pandas is described more extensively in another notebook."
   ]
  },
  {
   "cell_type": "code",
   "execution_count": null,
   "metadata": {},
   "outputs": [],
   "source": [
    "import numpy as np\n",
    "import matplotlib.pyplot as plt\n",
    "import pandas as pd\n",
    "%matplotlib inline"
   ]
  },
  {
   "cell_type": "markdown",
   "metadata": {},
   "source": [
    "We now import some specific modules from Pandas and Numpy"
   ]
  },
  {
   "cell_type": "code",
   "execution_count": null,
   "metadata": {},
   "outputs": [],
   "source": [
    "from pandas import Series, DataFrame\n",
    "from numpy import linalg as LA"
   ]
  },
  {
   "cell_type": "markdown",
   "metadata": {},
   "source": [
    "Next, we also import modules to provide pretty-printing of matrices and vectors."
   ]
  },
  {
   "cell_type": "code",
   "execution_count": null,
   "metadata": {},
   "outputs": [],
   "source": [
    "from sympy import init_printing, Matrix, symbols, Rational\n",
    "import sympy as sym\n",
    "from warnings import filterwarnings\n",
    "init_printing(use_latex = 'mathjax')\n",
    "filterwarnings('ignore')"
   ]
  },
  {
   "cell_type": "markdown",
   "metadata": {},
   "source": [
    "We now display and then load a dataset for the classification of wine quality. This uses some Pandas functions that are described in a different notebook."
   ]
  },
  {
   "cell_type": "code",
   "execution_count": null,
   "metadata": {},
   "outputs": [],
   "source": [
    "!cat 'Datasets/Wine.csv'"
   ]
  },
  {
   "cell_type": "code",
   "execution_count": null,
   "metadata": {},
   "outputs": [],
   "source": [
    "dataset = pd.read_csv(\"Datasets/Wine.csv\")\n",
    "dataset.info()"
   ]
  },
  {
   "cell_type": "markdown",
   "metadata": {},
   "source": [
    "The dataset has 178 points, each represented as a 14-dimensional vector."
   ]
  },
  {
   "cell_type": "code",
   "execution_count": null,
   "metadata": {},
   "outputs": [],
   "source": [
    "dataset.shape"
   ]
  },
  {
   "cell_type": "markdown",
   "metadata": {},
   "source": [
    "Labels are stored in the `Customer_Segment` column. We print the distinct labels by selecting the column named `Customer_Segment` and using the `unique` function of Numpy."
   ]
  },
  {
   "cell_type": "code",
   "execution_count": null,
   "metadata": {},
   "outputs": [],
   "source": [
    "np.unique(dataset['Customer_Segment'])"
   ]
  },
  {
   "cell_type": "markdown",
   "metadata": {},
   "source": [
    "Next, we separate datapoints from labels using the `iloc` method of Pandas to slice a matrix columnwise."
   ]
  },
  {
   "cell_type": "code",
   "execution_count": null,
   "metadata": {},
   "outputs": [],
   "source": [
    "Xh = dataset.iloc[:, 0:13].values # select submatrix only including columns 0-12\n",
    "y = dataset.iloc[:, 13].values # select only column 13\n",
    "X = Xh.T # transpose, now points are indexed by columns and coordinates by rows"
   ]
  },
  {
   "cell_type": "markdown",
   "metadata": {},
   "source": [
    "Print dimensions and rank."
   ]
  },
  {
   "cell_type": "code",
   "execution_count": null,
   "metadata": {},
   "outputs": [],
   "source": [
    "X.shape, LA.matrix_rank(X)"
   ]
  },
  {
   "cell_type": "markdown",
   "metadata": {},
   "source": [
    "Slicing in two dimensions"
   ]
  },
  {
   "cell_type": "code",
   "execution_count": null,
   "metadata": {},
   "outputs": [],
   "source": [
    "Matrix(X)"
   ]
  },
  {
   "cell_type": "code",
   "execution_count": null,
   "metadata": {},
   "outputs": [],
   "source": [
    "Matrix(X[:,0]) # first column of X"
   ]
  },
  {
   "cell_type": "code",
   "execution_count": null,
   "metadata": {},
   "outputs": [],
   "source": [
    "Matrix(X[0,:]) # first row of X"
   ]
  },
  {
   "cell_type": "code",
   "execution_count": null,
   "metadata": {},
   "outputs": [],
   "source": [
    "Matrix(X[:,:2]) # first two columns of X"
   ]
  },
  {
   "cell_type": "markdown",
   "metadata": {},
   "source": [
    "We now compute the singular value decomposition (SVD): $$X = U\\Sigma V^{\\top} = \\sum_{i=1}^d \\sigma_i u_i v_i^{\\top}$$\n",
    "\n",
    "SVD is the generalization to non-square matrices of the spectral decomposition.\n",
    "* $U$ and $V$ are orthonormal matrices\n",
    "* The columns of $U$ are the eigenvectors of $XX^{\\top}$\n",
    "* The columns of $V$ are the eigenvectors of $X^{\\top}X$\n",
    "* The singular values (diagonal elements of $\\Sigma$) are the square roots of the eigenvalues of $XX^{\\top}$ or, equivalently, of $X^{\\top}X$\n",
    "* Hence, in particular, $XX^{\\top}u_i = \\sigma_i^2u_i$ and $X^{\\top}Xv_i = \\sigma_i^2v_i$ for all $i=1,\\ldots,d$."
   ]
  },
  {
   "cell_type": "code",
   "execution_count": null,
   "metadata": {
    "scrolled": true
   },
   "outputs": [],
   "source": [
    "U, s, Vh = LA.svd(X, full_matrices=False)\n",
    "U.shape, s.shape, Vh.shape"
   ]
  },
  {
   "cell_type": "code",
   "execution_count": null,
   "metadata": {},
   "outputs": [],
   "source": [
    "Matrix(np.diag(np.round(s, decimals=2)))"
   ]
  },
  {
   "cell_type": "markdown",
   "metadata": {},
   "source": [
    "Let's check that, indeed, $XX^{\\top}u_1 = \\sigma_1^2 u_1$"
   ]
  },
  {
   "cell_type": "code",
   "execution_count": null,
   "metadata": {},
   "outputs": [],
   "source": [
    "Matrix(X @ X.T @ U[:,0])"
   ]
  },
  {
   "cell_type": "code",
   "execution_count": null,
   "metadata": {},
   "outputs": [],
   "source": [
    "Matrix(s[0]*s[0]*U[:,0])"
   ]
  },
  {
   "cell_type": "markdown",
   "metadata": {},
   "source": [
    "We now take the two *principal eigenvectors*. Namely, the ones associated with the largest singular values."
   ]
  },
  {
   "cell_type": "code",
   "execution_count": null,
   "metadata": {
    "scrolled": true
   },
   "outputs": [],
   "source": [
    "P = U[:,:2] # the first two columns of U\n",
    "Matrix(P)"
   ]
  },
  {
   "cell_type": "markdown",
   "metadata": {},
   "source": [
    "The linear operator $T_{P^{\\top}} : \\mathbb{R}^{13} \\to \\mathbb{R}^2$ corresponding to $P^{\\top}$ projects the original data onto the subspace spanned by the two principal eigenvectors.\n",
    "\n",
    "We thus project the columns of $X$ onto this space. "
   ]
  },
  {
   "cell_type": "code",
   "execution_count": null,
   "metadata": {},
   "outputs": [],
   "source": [
    "R = P.T @ X\n",
    "Matrix(R)"
   ]
  },
  {
   "cell_type": "markdown",
   "metadata": {},
   "source": [
    "We now plot the data points in this space (using color-coding for the labels)."
   ]
  },
  {
   "cell_type": "code",
   "execution_count": null,
   "metadata": {},
   "outputs": [],
   "source": [
    "plt.scatter(R[0,:], R[1,:], c=y) # recall that y is the ndarray containing the labels"
   ]
  },
  {
   "cell_type": "markdown",
   "metadata": {},
   "source": [
    "The principal eigenvectors correspond to orthogonal directions along which the variance is maximized.\n",
    "\n",
    "In contrast, here is a projection that uses two eigenvectors associated to small singular values (note the change of scale in the axis)."
   ]
  },
  {
   "cell_type": "code",
   "execution_count": null,
   "metadata": {},
   "outputs": [],
   "source": [
    "P = U[:,7:9]\n",
    "R = P.T @ X\n",
    "plt.scatter(R[0,:], R[1,:], c=y)"
   ]
  },
  {
   "cell_type": "markdown",
   "metadata": {},
   "source": [
    "Intuitively, principal components help reduce the number of dimension without losing too much information in the data. This is formally stated as follows.\n",
    "\n",
    "**Theorem (Eckhart-Young).** Let $X$ be a $d \\times m$ matrix with SVD $U\\Sigma V^{\\top}$, where $\\Sigma = \\mathrm{diag}\\big(\\sigma_1,\\dots,\\sigma_r\\big)$. Pick $1 \\le k \\le r$ and let\n",
    "$\n",
    "\tX_k = U \\Sigma_k V^{\\top}\n",
    "$\n",
    "be the matrix such that $\\Sigma_k = \\mathrm{diag}\\big(\\sigma_1,\\dots,\\sigma_k,0\\dots,0\\big)$. Then\n",
    "$$\n",
    "\tX_k = \\underset{Z \\,:\\, \\mathrm{rank}(Z) \\le k}{\\mathrm{argmin}} \\|X - Z\\|_F^2~.\n",
    "$$"
   ]
  },
  {
   "cell_type": "markdown",
   "metadata": {},
   "source": [
    "$\\|\\cdot\\|_F$ is the Frobenius norm of a matrix, defined as\n",
    "$$\n",
    "\\|X\\|_F = \\sqrt{\\sum_{i,j}X_{i,j}^2}\n",
    "$$\n",
    "We now apply principal component analysis to a second dataset."
   ]
  },
  {
   "cell_type": "code",
   "execution_count": null,
   "metadata": {},
   "outputs": [],
   "source": [
    "dataset = pd.read_csv(\"Datasets/Iris.csv\")\n",
    "dataset.info()"
   ]
  },
  {
   "cell_type": "code",
   "execution_count": null,
   "metadata": {},
   "outputs": [],
   "source": [
    "dataset.shape"
   ]
  },
  {
   "cell_type": "markdown",
   "metadata": {},
   "source": [
    "Labels are stored in the column `Species`. However, unlike the previous example, they are encoded using strings."
   ]
  },
  {
   "cell_type": "code",
   "execution_count": null,
   "metadata": {},
   "outputs": [],
   "source": [
    "np.unique(dataset['Species'])"
   ]
  },
  {
   "cell_type": "markdown",
   "metadata": {},
   "source": [
    "We then map these strings to integers. First, we create a dictionary, and then we invoke the method `map()` on the column `Species`"
   ]
  },
  {
   "cell_type": "code",
   "execution_count": null,
   "metadata": {},
   "outputs": [],
   "source": [
    "label_to_int = {'Iris-setosa' : 1, 'Iris-versicolor' : 2, 'Iris-virginica' : 3}\n",
    "dataset['Species'] = dataset['Species'].map(label_to_int)\n",
    "np.unique(dataset['Species'])"
   ]
  },
  {
   "cell_type": "code",
   "execution_count": null,
   "metadata": {},
   "outputs": [],
   "source": [
    "Xh = dataset.iloc[:,1:5].values\n",
    "y = dataset.iloc[:,5].values\n",
    "X = Xh.T"
   ]
  },
  {
   "cell_type": "code",
   "execution_count": null,
   "metadata": {},
   "outputs": [],
   "source": [
    "X.shape, LA.matrix_rank(X)"
   ]
  },
  {
   "cell_type": "code",
   "execution_count": null,
   "metadata": {},
   "outputs": [],
   "source": [
    "U, s, Vh = LA.svd(X, full_matrices=False)\n",
    "U.shape, s.shape, Vh.shape"
   ]
  },
  {
   "cell_type": "code",
   "execution_count": null,
   "metadata": {},
   "outputs": [],
   "source": [
    "Matrix(np.diag(np.round(s, decimals=2)))"
   ]
  },
  {
   "cell_type": "code",
   "execution_count": null,
   "metadata": {},
   "outputs": [],
   "source": [
    "P = U[:,:2]\n",
    "R = P.T @ X\n",
    "plt.scatter(R[0,:], R[1,:], c=y)"
   ]
  },
  {
   "cell_type": "markdown",
   "metadata": {},
   "source": [
    "Similarly to before, projecting onto components associated to small singular values causes the data to lump together."
   ]
  },
  {
   "cell_type": "code",
   "execution_count": null,
   "metadata": {},
   "outputs": [],
   "source": [
    "P = U[:,2:4]\n",
    "R = P.T @ X\n",
    "plt.scatter(R[0,:], R[1,:], c=y)"
   ]
  }
 ],
 "metadata": {
  "kernelspec": {
   "display_name": "Python 3 (ipykernel)",
   "language": "python",
   "name": "python3"
  },
  "language_info": {
   "codemirror_mode": {
    "name": "ipython",
    "version": 3
   },
   "file_extension": ".py",
   "mimetype": "text/x-python",
   "name": "python",
   "nbconvert_exporter": "python",
   "pygments_lexer": "ipython3",
   "version": "3.9.7"
  },
  "latex_envs": {
   "LaTeX_envs_menu_present": true,
   "autoclose": false,
   "autocomplete": true,
   "bibliofile": "biblio.bib",
   "cite_by": "apalike",
   "current_citInitial": 1,
   "eqLabelWithNumbers": true,
   "eqNumInitial": 1,
   "hotkeys": {
    "equation": "Ctrl-E",
    "itemize": "Ctrl-I"
   },
   "labels_anchors": false,
   "latex_user_defs": false,
   "report_style_numbering": false,
   "user_envs_cfg": false
  }
 },
 "nbformat": 4,
 "nbformat_minor": 2
}
